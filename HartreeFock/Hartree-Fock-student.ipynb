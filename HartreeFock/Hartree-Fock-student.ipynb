{
 "cells": [
  {
   "cell_type": "markdown",
   "metadata": {},
   "source": [
    "This lab activity is intended to teach students the mechanics of the Hartree-Fock procedure, without getting into the details of calculating the 1 and 2 electron integrals, by using the machinary of the Psi4 quantum chemistry software package.\n",
    "\n",
    "Prerequisite knowledge:  This lab assumes that the students understand the principles, though not the mathematics, of constructing the Fock matrix and that diagaonlizing the Fock matrix leads to the molecular orbital energies and coefficients.  The lab also assumes all the [standard python pre-requisites of all Psi4Education labs](https://admiring-tesla-08529a.netlify.com/posts/psi4jupyter_labs/).  \n",
    "\n",
    "Learning ojbectives:\n",
    "1. Recognize that the AO basis is not orthonormal and must be transformed.\n",
    "2. Transform a from one basis to another using a transformation matrix.\n",
    "3. Recognize the interative nature of the HF procedure and what leds to the need for the iterative process.  \n",
    "4. Define convergence and use convergence criteria in a self-consistent procedure. \n",
    "5. Calculate MO energies and coefficients by diagonalizing the Fock matrix.  \n",
    "\n",
    "Authors: Ashley Ringer McDonald (armcdona@calpoly.edu; [ORCID: 0000-0002-4381-1239](https://orcid.org/0000-0002-4381-1239)) and Dominic A. Sirianni (sirianni.dom@gmail.com; [ORCID: 0000-0002-6464-0213](https://orcid.org/0000-0002-6464-0213) )\n",
    "\n",
    "Copyright: Psi4Education Project, 2019\n"
   ]
  },
  {
   "cell_type": "markdown",
   "metadata": {},
   "source": [
    "# Introduction: Hartree-Fock Procedure for Approximate Quantum Chemistry"
   ]
  },
  {
   "cell_type": "code",
   "execution_count": 2,
   "metadata": {},
   "outputs": [],
   "source": [
    "# ==> Import Psi4 & NumPy packages <==\n",
    "import os\n",
    "import sys\n",
    "\n",
    "sys.path.insert(0,\"/usr/local/psi4/lib\")\n",
    "\n",
    "import psi4\n",
    "import numpy as np"
   ]
  },
  {
   "cell_type": "markdown",
   "metadata": {},
   "source": [
    "By solving the Hydrogen atom Shr$\\ddot{\\rm o}$dinger equation, we saw that the expression for the different\n",
    "energy levels is given by:\n",
    "\n",
    "$$E_{n} = \\frac{m_e e^4}{8\\epsilon_0^2h^2n^2}$$\n",
    "\n",
    "By looking up the values of these constants, we can compute the ground state energy of the Hydrogen atom\n",
    "numerically. In the cell below, define variables for each of the above constants and compute the exact H atom\n",
    "ground state energy:"
   ]
  },
  {
   "cell_type": "code",
   "execution_count": 3,
   "metadata": {},
   "outputs": [
    {
     "name": "stdout",
     "output_type": "stream",
     "text": [
      "The exact ground state energy in SI units is: 2.1798723610862185e-18\n",
      "The exact ground state energy in atomic units is: 0.49999960114352904\n"
     ]
    }
   ],
   "source": [
    "# ==> Toy Example: The Hydrogen Atom <==\n",
    "# Define fundamental constants in SI units\n",
    "# not quite sure where to obtain these values\n",
    "m_e = 9.1093837015e-31 # kg\n",
    "e = 1.602176634e-19 # C\n",
    "epsilon_0 = 8.8541878128e-12 # F / m\n",
    "h = 6.62607015e-34 # J*s\n",
    "n = 1\n",
    "\n",
    "# Define a.u. to SI energy conversion factor\n",
    "# https://www.convertunits.com/from/hartree/to/joule\n",
    "hartree2joules = 4.3597482e-18\n",
    "\n",
    "def energy(m_e, e, epsilon_0, h, n):\n",
    "    return (m_e * e**4) / (8 * epsilon_0**2 * h**2 * n**2)\n",
    "\n",
    "# Compute ground state energy of H atom in SI units\n",
    "E_1 = energy(m_e, e, epsilon_0, h, n)\n",
    "\n",
    "# Convert SI energy to atomic units\n",
    "E_1_au = E_1 / hartree2joules\n",
    "\n",
    "print(f'The exact ground state energy in SI units is: {E_1}')\n",
    "print(f'The exact ground state energy in atomic units is: {E_1_au}')"
   ]
  },
  {
   "cell_type": "markdown",
   "metadata": {},
   "source": [
    "We obtained the Hydrogen atom energy expression above by solving the Schr$\\ddot{\\rm o}$dinger equation exactly.\n",
    "But what happens if we cannot do this?\n",
    "\n",
    "That's where Hartree-Fock molecular orbital theory comes in! Just as a test case, let's use Psi4 to compute the\n",
    "Hartree-Fock wavefunction and energy for the Hydrogen atom:"
   ]
  },
  {
   "cell_type": "code",
   "execution_count": 4,
   "metadata": {
    "scrolled": true
   },
   "outputs": [
    {
     "name": "stdout",
     "output_type": "stream",
     "text": [
      "The H atom energy in Eh: -0.4999948009253332 Eh\n",
      "The H atom energy in J: -2.1798496583620362e-18 J\n"
     ]
    }
   ],
   "source": [
    "# ==> Compute H atom energy with Hartree-Fock using Psi4 <==\n",
    "h_atom = psi4.geometry(\"\"\"\n",
    "0 2\n",
    "H 0 0 0\n",
    "\"\"\")\n",
    "\n",
    "psi4.set_options({'reference': 'rohf',\n",
    "                  'scf_type': 'pk'\n",
    "                 })\n",
    "\n",
    "e = psi4.energy('scf/d-aug-cc-pv5z')\n",
    "\n",
    "print(f\"The H atom energy in Eh: {e} Eh\")\n",
    "print(f\"The H atom energy in J: {e * psi4.constants.hartree2J} J\")"
   ]
  },
  {
   "cell_type": "markdown",
   "metadata": {},
   "source": [
    "## The Hartree-Fock procedure\n",
    "In this lab activity, you will be building and diagonalizing the Fock matrix to determine the MO coefficients and energies for a molecule.  We will be using the functions of the Psi4 quantum chemistry software package to compute the integrals we need.  The following notebook will lead you through setting up your molecule, establishing the basis set, and forming and diagonalizing the Fock matrix.  Be sure to run each cell as your proceed through the notebook."
   ]
  },
  {
   "cell_type": "markdown",
   "metadata": {},
   "source": [
    "### Specifying the molecule\n",
    "Before we can begin to implement the HF procedure, we need to specifcy the molecule and basis set that we will be using.  We will also set the memory usage for our calcluation and the output file name.  "
   ]
  },
  {
   "cell_type": "code",
   "execution_count": 5,
   "metadata": {},
   "outputs": [],
   "source": [
    "# ==> Set Basic Psi4 Options <==\n",
    "# Memory specification\n",
    "psi4.set_memory('500 MB')\n",
    "numpy_memory = 2 # No NumPy aray can exceed 2 MB in size\n",
    "\n",
    "# Set output file\n",
    "psi4.core.set_output_file('output.dat', False)\n",
    "\n",
    "# Define Physicist's water -- don't forget C1 symmetry!\n",
    "mol = psi4.geometry(\"\"\"\n",
    "O\n",
    "H 1 1.1\n",
    "H 1 1.1 2 104\n",
    "symmetry c1\n",
    "\"\"\")\n",
    "\n",
    "# Set computation options\n",
    "psi4.set_options({'basis': 'cc-pvdz',\n",
    "                  'scf_type': 'pk',\n",
    "                  'e_convergence': 1e-8})"
   ]
  },
  {
   "cell_type": "markdown",
   "metadata": {},
   "source": [
    "The Hartree Fock procedure is iterative (more on this later).  We continue recalculating the energy until it converges to the level we specify.  The varible `E_conv` is where we set this level of convergence.  We also set a maximum number of iterations so that if our calculation does not converge, it eventually stops and lets us know that it did not converge.  "
   ]
  },
  {
   "cell_type": "code",
   "execution_count": 6,
   "metadata": {},
   "outputs": [],
   "source": [
    "# ==> Set default program options <==\n",
    "# Maximum SCF iterations\n",
    "MAXITER = 40\n",
    "# Energy convergence criterion\n",
    "E_conv = 1.0e-6"
   ]
  },
  {
   "cell_type": "markdown",
   "metadata": {},
   "source": [
    "Next, we need to build the wavefunction from the basis functions.  We store the wavefunction in a variable called `wfn`.  Next we have to set up a data structure, called a class, to calculate the molecular integrals.  We will call this data structure `mints`."
   ]
  },
  {
   "cell_type": "code",
   "execution_count": 7,
   "metadata": {},
   "outputs": [],
   "source": [
    "# ==> Compute static 1e- and 2e- quantities with Psi4 <==\n",
    "wfn = psi4.core.Wavefunction.build(mol, psi4.core.get_global_option('basis'))\n",
    "mints = psi4.core.MintsHelper(wfn.basisset())"
   ]
  },
  {
   "cell_type": "markdown",
   "metadata": {},
   "source": [
    "We use the function `ao_overlap` to calculate the overlap integrals between all the AO basis functions.  We cast this to a numpy array called `S`. "
   ]
  },
  {
   "cell_type": "code",
   "execution_count": 8,
   "metadata": {},
   "outputs": [],
   "source": [
    "# Overlap matrix\n",
    "S = np.asarray(mints.ao_overlap())"
   ]
  },
  {
   "cell_type": "code",
   "execution_count": 9,
   "metadata": {},
   "outputs": [
    {
     "data": {
      "text/plain": [
       "array([[ 1.00000000e+00, -2.14062652e-01,  1.94384152e-01,\n",
       "         6.12784785e-18,  0.00000000e+00,  0.00000000e+00,\n",
       "        -2.40224100e-18,  0.00000000e+00,  0.00000000e+00,\n",
       "         0.00000000e+00,  0.00000000e+00,  0.00000000e+00,\n",
       "        -1.81372730e-18,  0.00000000e+00,  3.45999929e-02,\n",
       "         6.15289762e-02, -3.97443884e-02,  0.00000000e+00,\n",
       "         5.08704974e-02,  3.45999929e-02,  6.15289762e-02,\n",
       "        -3.97443884e-02,  0.00000000e+00, -5.08704974e-02],\n",
       "       [-2.14062652e-01,  1.00000000e+00,  7.08607329e-01,\n",
       "         5.75156168e-17,  0.00000000e+00,  0.00000000e+00,\n",
       "         1.51143471e-17,  0.00000000e+00,  0.00000000e+00,\n",
       "        -1.11022302e-16,  0.00000000e+00,  0.00000000e+00,\n",
       "        -1.19983924e-18,  0.00000000e+00,  1.96930552e-01,\n",
       "         2.90859084e-01, -1.91271784e-01,  0.00000000e+00,\n",
       "         2.44816719e-01,  1.96930552e-01,  2.90859084e-01,\n",
       "        -1.91271784e-01,  0.00000000e+00, -2.44816719e-01],\n",
       "       [ 1.94384152e-01,  7.08607329e-01,  1.00000000e+00,\n",
       "         9.46130109e-18,  0.00000000e+00,  0.00000000e+00,\n",
       "        -4.22461277e-18,  0.00000000e+00,  0.00000000e+00,\n",
       "         0.00000000e+00,  0.00000000e+00,  0.00000000e+00,\n",
       "         2.88800782e-17,  0.00000000e+00,  4.07681908e-01,\n",
       "         5.91588206e-01, -2.21492002e-01,  0.00000000e+00,\n",
       "         2.83496835e-01,  4.07681908e-01,  5.91588206e-01,\n",
       "        -2.21492002e-01,  0.00000000e+00, -2.83496835e-01],\n",
       "       [ 6.12784785e-18,  5.75156168e-17,  9.46130109e-18,\n",
       "         1.00000000e+00,  0.00000000e+00,  0.00000000e+00,\n",
       "         5.01271483e-01,  0.00000000e+00,  0.00000000e+00,\n",
       "        -2.36234337e-17,  0.00000000e+00,  0.00000000e+00,\n",
       "        -3.32420246e-34,  0.00000000e+00,  1.34668719e-01,\n",
       "         6.69075612e-02, -5.63913501e-02,  0.00000000e+00,\n",
       "         2.29115551e-01,  1.34668719e-01,  6.69075612e-02,\n",
       "        -5.63913501e-02,  0.00000000e+00, -2.29115551e-01],\n",
       "       [ 0.00000000e+00,  0.00000000e+00,  0.00000000e+00,\n",
       "         0.00000000e+00,  1.00000000e+00,  0.00000000e+00,\n",
       "         0.00000000e+00,  5.01271483e-01,  0.00000000e+00,\n",
       "         0.00000000e+00, -2.04584937e-17,  0.00000000e+00,\n",
       "         0.00000000e+00,  0.00000000e+00,  0.00000000e+00,\n",
       "         0.00000000e+00,  0.00000000e+00,  1.22613337e-01,\n",
       "         0.00000000e+00,  0.00000000e+00,  0.00000000e+00,\n",
       "         0.00000000e+00,  1.22613337e-01,  0.00000000e+00],\n",
       "       [ 0.00000000e+00,  0.00000000e+00,  0.00000000e+00,\n",
       "         0.00000000e+00,  0.00000000e+00,  1.00000000e+00,\n",
       "         0.00000000e+00,  0.00000000e+00,  5.01271483e-01,\n",
       "         0.00000000e+00,  0.00000000e+00, -2.04584937e-17,\n",
       "         0.00000000e+00,  0.00000000e+00, -1.72368100e-01,\n",
       "        -8.56377731e-02,  2.29115551e-01,  0.00000000e+00,\n",
       "        -1.70641196e-01,  1.72368100e-01,  8.56377731e-02,\n",
       "        -2.29115551e-01,  0.00000000e+00, -1.70641196e-01],\n",
       "       [-2.40224100e-18,  1.51143471e-17, -4.22461277e-18,\n",
       "         5.01271483e-01,  0.00000000e+00,  0.00000000e+00,\n",
       "         1.00000000e+00,  0.00000000e+00,  0.00000000e+00,\n",
       "         3.55541770e-17,  0.00000000e+00,  0.00000000e+00,\n",
       "         3.83326465e-34,  0.00000000e+00,  3.64163712e-01,\n",
       "         2.53605562e-01,  1.09898555e-01,  0.00000000e+00,\n",
       "         2.65988949e-01,  3.64163712e-01,  2.53605562e-01,\n",
       "         1.09898555e-01,  0.00000000e+00, -2.65988949e-01],\n",
       "       [ 0.00000000e+00,  0.00000000e+00,  0.00000000e+00,\n",
       "         0.00000000e+00,  5.01271483e-01,  0.00000000e+00,\n",
       "         0.00000000e+00,  1.00000000e+00,  0.00000000e+00,\n",
       "         0.00000000e+00,  3.07908205e-17,  0.00000000e+00,\n",
       "         0.00000000e+00,  0.00000000e+00,  0.00000000e+00,\n",
       "         0.00000000e+00,  0.00000000e+00,  3.17711897e-01,\n",
       "         0.00000000e+00,  0.00000000e+00,  0.00000000e+00,\n",
       "         0.00000000e+00,  3.17711897e-01,  0.00000000e+00],\n",
       "       [ 0.00000000e+00,  0.00000000e+00,  0.00000000e+00,\n",
       "         0.00000000e+00,  0.00000000e+00,  5.01271483e-01,\n",
       "         0.00000000e+00,  0.00000000e+00,  1.00000000e+00,\n",
       "         0.00000000e+00,  0.00000000e+00,  3.07908205e-17,\n",
       "         0.00000000e+00,  0.00000000e+00, -4.66108296e-01,\n",
       "        -3.24600318e-01,  2.65988949e-01,  0.00000000e+00,\n",
       "        -2.27384321e-02,  4.66108296e-01,  3.24600318e-01,\n",
       "        -2.65988949e-01,  0.00000000e+00, -2.27384321e-02],\n",
       "       [ 0.00000000e+00, -1.11022302e-16,  0.00000000e+00,\n",
       "        -2.36234337e-17,  0.00000000e+00,  0.00000000e+00,\n",
       "         3.55541770e-17,  0.00000000e+00,  0.00000000e+00,\n",
       "         1.00000000e+00,  0.00000000e+00,  0.00000000e+00,\n",
       "         8.58760498e-18,  0.00000000e+00,  1.31965658e-02,\n",
       "         1.94378740e-03,  1.40508640e-01,  0.00000000e+00,\n",
       "         1.31475603e-01,  1.31965658e-02,  1.94378740e-03,\n",
       "         1.40508640e-01,  0.00000000e+00, -1.31475603e-01],\n",
       "       [ 0.00000000e+00,  0.00000000e+00,  0.00000000e+00,\n",
       "         0.00000000e+00, -2.04584937e-17,  0.00000000e+00,\n",
       "         0.00000000e+00,  3.07908205e-17,  0.00000000e+00,\n",
       "         0.00000000e+00,  1.00000000e+00,  0.00000000e+00,\n",
       "         0.00000000e+00,  0.00000000e+00,  0.00000000e+00,\n",
       "         0.00000000e+00,  0.00000000e+00,  1.40428120e-01,\n",
       "         0.00000000e+00,  0.00000000e+00,  0.00000000e+00,\n",
       "         0.00000000e+00,  1.40428120e-01,  0.00000000e+00],\n",
       "       [ 0.00000000e+00,  0.00000000e+00,  0.00000000e+00,\n",
       "         0.00000000e+00,  0.00000000e+00, -2.04584937e-17,\n",
       "         0.00000000e+00,  0.00000000e+00,  3.07908205e-17,\n",
       "         0.00000000e+00,  0.00000000e+00,  1.00000000e+00,\n",
       "         0.00000000e+00,  0.00000000e+00, -1.61746121e-01,\n",
       "        -2.38243857e-02,  8.55412229e-02,  0.00000000e+00,\n",
       "        -1.99116102e-01,  1.61746121e-01,  2.38243857e-02,\n",
       "        -8.55412229e-02,  0.00000000e+00, -1.99116102e-01],\n",
       "       [-1.81372730e-18, -1.19983924e-18,  2.88800782e-17,\n",
       "        -3.32420246e-34,  0.00000000e+00,  0.00000000e+00,\n",
       "         3.83326465e-34,  0.00000000e+00,  0.00000000e+00,\n",
       "         8.58760498e-18,  0.00000000e+00,  0.00000000e+00,\n",
       "         1.00000000e+00,  0.00000000e+00, -1.03512797e-01,\n",
       "        -1.52469115e-02,  1.69772111e-01,  0.00000000e+00,\n",
       "        -3.75585954e-02, -1.03512797e-01, -1.52469115e-02,\n",
       "         1.69772111e-01,  0.00000000e+00,  3.75585954e-02],\n",
       "       [ 0.00000000e+00,  0.00000000e+00,  0.00000000e+00,\n",
       "         0.00000000e+00,  0.00000000e+00,  0.00000000e+00,\n",
       "         0.00000000e+00,  0.00000000e+00,  0.00000000e+00,\n",
       "         0.00000000e+00,  0.00000000e+00,  0.00000000e+00,\n",
       "         0.00000000e+00,  1.00000000e+00,  0.00000000e+00,\n",
       "         0.00000000e+00,  0.00000000e+00, -1.79739798e-01,\n",
       "         0.00000000e+00,  0.00000000e+00,  0.00000000e+00,\n",
       "         0.00000000e+00,  1.79739798e-01,  0.00000000e+00],\n",
       "       [ 3.45999929e-02,  1.96930552e-01,  4.07681908e-01,\n",
       "         1.34668719e-01,  0.00000000e+00, -1.72368100e-01,\n",
       "         3.64163712e-01,  0.00000000e+00, -4.66108296e-01,\n",
       "         1.31965658e-02,  0.00000000e+00, -1.61746121e-01,\n",
       "        -1.03512797e-01,  0.00000000e+00,  1.00000000e+00,\n",
       "         6.84860251e-01, -8.65600621e-17,  0.00000000e+00,\n",
       "         8.72135783e-17,  6.63753228e-02,  2.39868396e-01,\n",
       "        -1.33554814e-18,  0.00000000e+00, -8.81158139e-02],\n",
       "       [ 6.15289762e-02,  2.90859084e-01,  5.91588206e-01,\n",
       "         6.69075612e-02,  0.00000000e+00, -8.56377731e-02,\n",
       "         2.53605562e-01,  0.00000000e+00, -3.24600318e-01,\n",
       "         1.94378740e-03,  0.00000000e+00, -2.38243857e-02,\n",
       "        -1.52469115e-02,  0.00000000e+00,  6.84860251e-01,\n",
       "         1.00000000e+00, -1.08975920e-16,  0.00000000e+00,\n",
       "         1.33755584e-16,  2.39868396e-01,  5.19601930e-01,\n",
       "        -5.70614808e-18,  0.00000000e+00, -1.53731916e-01],\n",
       "       [-3.97443884e-02, -1.91271784e-01, -2.21492002e-01,\n",
       "        -5.63913501e-02,  0.00000000e+00,  2.29115551e-01,\n",
       "         1.09898555e-01,  0.00000000e+00,  2.65988949e-01,\n",
       "         1.40508640e-01,  0.00000000e+00,  8.55412229e-02,\n",
       "         1.69772111e-01,  0.00000000e+00, -8.65600621e-17,\n",
       "        -1.08975920e-16,  1.00000000e+00,  0.00000000e+00,\n",
       "        -6.46959087e-33, -4.01153309e-18, -3.55130040e-17,\n",
       "         2.02151688e-02,  0.00000000e+00, -3.24835518e-18],\n",
       "       [ 0.00000000e+00,  0.00000000e+00,  0.00000000e+00,\n",
       "         0.00000000e+00,  1.22613337e-01,  0.00000000e+00,\n",
       "         0.00000000e+00,  3.17711897e-01,  0.00000000e+00,\n",
       "         0.00000000e+00,  1.40428120e-01,  0.00000000e+00,\n",
       "         0.00000000e+00, -1.79739798e-01,  0.00000000e+00,\n",
       "         0.00000000e+00,  0.00000000e+00,  1.00000000e+00,\n",
       "         0.00000000e+00,  0.00000000e+00,  0.00000000e+00,\n",
       "         0.00000000e+00,  2.02151688e-02,  0.00000000e+00],\n",
       "       [ 5.08704974e-02,  2.44816719e-01,  2.83496835e-01,\n",
       "         2.29115551e-01,  0.00000000e+00, -1.70641196e-01,\n",
       "         2.65988949e-01,  0.00000000e+00, -2.27384321e-02,\n",
       "         1.31475603e-01,  0.00000000e+00, -1.99116102e-01,\n",
       "        -3.75585954e-02,  0.00000000e+00,  8.72135783e-17,\n",
       "         1.33755584e-16, -6.46959087e-33,  0.00000000e+00,\n",
       "         1.00000000e+00,  8.81158139e-02,  1.53731916e-01,\n",
       "         2.46297334e-17,  0.00000000e+00, -1.37516598e-01],\n",
       "       [ 3.45999929e-02,  1.96930552e-01,  4.07681908e-01,\n",
       "         1.34668719e-01,  0.00000000e+00,  1.72368100e-01,\n",
       "         3.64163712e-01,  0.00000000e+00,  4.66108296e-01,\n",
       "         1.31965658e-02,  0.00000000e+00,  1.61746121e-01,\n",
       "        -1.03512797e-01,  0.00000000e+00,  6.63753228e-02,\n",
       "         2.39868396e-01, -4.01153309e-18,  0.00000000e+00,\n",
       "         8.81158139e-02,  1.00000000e+00,  6.84860251e-01,\n",
       "        -2.27553628e-17,  0.00000000e+00, -8.72135783e-17],\n",
       "       [ 6.15289762e-02,  2.90859084e-01,  5.91588206e-01,\n",
       "         6.69075612e-02,  0.00000000e+00,  8.56377731e-02,\n",
       "         2.53605562e-01,  0.00000000e+00,  3.24600318e-01,\n",
       "         1.94378740e-03,  0.00000000e+00,  2.38243857e-02,\n",
       "        -1.52469115e-02,  0.00000000e+00,  2.39868396e-01,\n",
       "         5.19601930e-01, -3.55130040e-17,  0.00000000e+00,\n",
       "         1.53731916e-01,  6.84860251e-01,  1.00000000e+00,\n",
       "        -1.75100011e-17,  0.00000000e+00, -1.33755584e-16],\n",
       "       [-3.97443884e-02, -1.91271784e-01, -2.21492002e-01,\n",
       "        -5.63913501e-02,  0.00000000e+00, -2.29115551e-01,\n",
       "         1.09898555e-01,  0.00000000e+00, -2.65988949e-01,\n",
       "         1.40508640e-01,  0.00000000e+00, -8.55412229e-02,\n",
       "         1.69772111e-01,  0.00000000e+00, -1.33554814e-18,\n",
       "        -5.70614808e-18,  2.02151688e-02,  0.00000000e+00,\n",
       "         2.46297334e-17, -2.27553628e-17, -1.75100011e-17,\n",
       "         1.00000000e+00,  0.00000000e+00,  1.97661862e-32],\n",
       "       [ 0.00000000e+00,  0.00000000e+00,  0.00000000e+00,\n",
       "         0.00000000e+00,  1.22613337e-01,  0.00000000e+00,\n",
       "         0.00000000e+00,  3.17711897e-01,  0.00000000e+00,\n",
       "         0.00000000e+00,  1.40428120e-01,  0.00000000e+00,\n",
       "         0.00000000e+00,  1.79739798e-01,  0.00000000e+00,\n",
       "         0.00000000e+00,  0.00000000e+00,  2.02151688e-02,\n",
       "         0.00000000e+00,  0.00000000e+00,  0.00000000e+00,\n",
       "         0.00000000e+00,  1.00000000e+00,  0.00000000e+00],\n",
       "       [-5.08704974e-02, -2.44816719e-01, -2.83496835e-01,\n",
       "        -2.29115551e-01,  0.00000000e+00, -1.70641196e-01,\n",
       "        -2.65988949e-01,  0.00000000e+00, -2.27384321e-02,\n",
       "        -1.31475603e-01,  0.00000000e+00, -1.99116102e-01,\n",
       "         3.75585954e-02,  0.00000000e+00, -8.81158139e-02,\n",
       "        -1.53731916e-01, -3.24835518e-18,  0.00000000e+00,\n",
       "        -1.37516598e-01, -8.72135783e-17, -1.33755584e-16,\n",
       "         1.97661862e-32,  0.00000000e+00,  1.00000000e+00]])"
      ]
     },
     "execution_count": 9,
     "metadata": {},
     "output_type": "execute_result"
    }
   ],
   "source": [
    "# overlap integrals between all the AO basis functions\n",
    "\n",
    "# Docstring for .ao_overlap()\n",
    "# 1. ao_overlap(self: psi4.core.MintsHelper) -> psi4.core.Matrix\n",
    "# AO basis overlap integrals\n",
    "\n",
    "# 2. ao_overlap(self: psi4.core.MintsHelper, arg0: psi::BasisSet, arg1: psi::BasisSet) -> psi4.core.Matrix\n",
    "# AO mixed basis overlap integrals\n",
    "\n",
    "S"
   ]
  },
  {
   "cell_type": "markdown",
   "metadata": {},
   "source": [
    "Now that we have constructed a matrix of the overlap integrals, we can determine how many basis functions we have and how many occupied orbitals there are.  Since we know how many electrons our molecule has, this can be a good check to make sure our code is working correctly so far.   In the box below, use the function `nalpha()` acting on the wavefunction object we created above to determine the number of doubly occupied orbitals.  Save this answer as a variable called `ndocc`.  This should match your expectation for the molecule you chose.\n",
    "\n",
    "Then determine the number of basis functions.  Remember that your overlap matrix is of size NxN where N is the number of basis functions.  Use the numpy documentation to look up the `shape` function and use that function to determine the size of the `S` array.  Use that information to determine how many basis functions there are and save your answer in a variable called `nbf`."
   ]
  },
  {
   "cell_type": "code",
   "execution_count": 12,
   "metadata": {},
   "outputs": [
    {
     "name": "stdout",
     "output_type": "stream",
     "text": [
      "Number of occupied orbitals: 5\n",
      "Number of basis functions: 24\n"
     ]
    }
   ],
   "source": [
    "# so this gets the number of \"doubly occupied orbitals\" (not num of electrons)\n",
    "# so ndocc times 2 should be 10 cuz water has 10 electrons\n",
    "ndocc = wfn.nalpha()\n",
    "# size_overlap = unsure what this is as there is no info above\n",
    "\n",
    "nbf = S.shape[0]\n",
    "\n",
    "print(F'Number of occupied orbitals: {ndocc}')\n",
    "print(F'Number of basis functions: {nbf}') "
   ]
  },
  {
   "cell_type": "markdown",
   "metadata": {},
   "source": [
    "Now that our basis set checks out, we can build the electron-repulsion integral tensor, which calculates the electron repulsion between the atomic orbital wavefunctions, and the core Hamiltonian."
   ]
  },
  {
   "cell_type": "code",
   "execution_count": 13,
   "metadata": {},
   "outputs": [],
   "source": [
    "# Build ERI Tensor\n",
    "I = np.asarray(mints.ao_eri())\n",
    "\n",
    "# Build core Hamiltonian\n",
    "T = np.asarray(mints.ao_kinetic())\n",
    "V = np.asarray(mints.ao_potential())\n",
    "H = T + V"
   ]
  },
  {
   "cell_type": "code",
   "execution_count": 14,
   "metadata": {},
   "outputs": [
    {
     "data": {
      "text/plain": [
       "array([[-3.28832658e+01,  7.83815073e+00, -5.90156618e+00,\n",
       "        -2.33515260e-02,  0.00000000e+00,  0.00000000e+00,\n",
       "        -4.40199641e-03,  0.00000000e+00,  0.00000000e+00,\n",
       "        -2.81441998e-04,  0.00000000e+00,  1.87789325e-19,\n",
       "         2.20760832e-03,  0.00000000e+00, -1.03024333e+00,\n",
       "        -1.84837357e+00,  1.19286409e+00,  0.00000000e+00,\n",
       "        -1.52768144e+00, -1.03024333e+00, -1.84837357e+00,\n",
       "         1.19286409e+00,  0.00000000e+00,  1.52768144e+00],\n",
       "       [ 7.83815073e+00, -1.01354994e+01, -4.94532741e+00,\n",
       "        -1.30232174e-01,  0.00000000e+00,  0.00000000e+00,\n",
       "        -9.08299843e-02,  0.00000000e+00,  0.00000000e+00,\n",
       "        -6.90722590e-03,  0.00000000e+00,  1.20185168e-17,\n",
       "         5.41797226e-02,  0.00000000e+00, -1.51898530e+00,\n",
       "        -2.14678487e+00,  1.39650863e+00,  0.00000000e+00,\n",
       "        -1.80601604e+00, -1.51898530e+00, -2.14678487e+00,\n",
       "         1.39650863e+00,  0.00000000e+00,  1.80601604e+00],\n",
       "       [-5.90156618e+00, -4.94532741e+00, -7.50633074e+00,\n",
       "        -1.38348344e-01,  0.00000000e+00,  0.00000000e+00,\n",
       "        -2.13877954e-01,  0.00000000e+00,  0.00000000e+00,\n",
       "        -9.97378250e-03,  0.00000000e+00,  1.20185168e-17,\n",
       "         7.82335450e-02,  0.00000000e+00, -2.66226962e+00,\n",
       "        -3.77408779e+00,  1.75758354e+00,  0.00000000e+00,\n",
       "        -2.29137585e+00, -2.66226962e+00, -3.77408779e+00,\n",
       "         1.75758354e+00,  0.00000000e+00,  2.29137585e+00],\n",
       "       [-2.33515260e-02, -1.30232174e-01, -1.38348344e-01,\n",
       "        -8.37534785e+00,  0.00000000e+00,  3.46944695e-18,\n",
       "        -3.74152675e+00,  0.00000000e+00,  6.93889390e-18,\n",
       "        -1.18146163e-01,  0.00000000e+00,  1.20185168e-17,\n",
       "         2.60523613e-02,  0.00000000e+00, -1.06568141e+00,\n",
       "        -5.66517960e-01,  4.38480460e-01,  0.00000000e+00,\n",
       "        -1.75341360e+00, -1.06568141e+00, -5.66517960e-01,\n",
       "         4.38480460e-01,  0.00000000e+00,  1.75341360e+00],\n",
       "       [ 0.00000000e+00,  0.00000000e+00,  0.00000000e+00,\n",
       "         0.00000000e+00, -8.33236888e+00,  0.00000000e+00,\n",
       "         0.00000000e+00, -3.69932957e+00,  0.00000000e+00,\n",
       "         0.00000000e+00, -9.94412098e-02,  0.00000000e+00,\n",
       "         0.00000000e+00,  0.00000000e+00,  0.00000000e+00,\n",
       "         0.00000000e+00,  0.00000000e+00, -9.18105953e-01,\n",
       "         0.00000000e+00,  0.00000000e+00,  0.00000000e+00,\n",
       "         0.00000000e+00, -9.18105953e-01,  0.00000000e+00],\n",
       "       [ 0.00000000e+00,  0.00000000e+00,  0.00000000e+00,\n",
       "         3.46944695e-18,  0.00000000e+00, -8.40277921e+00,\n",
       "         3.46944695e-18,  0.00000000e+00, -3.76845913e+00,\n",
       "         0.00000000e+00,  0.00000000e+00, -1.51545932e-01,\n",
       "         0.00000000e+00,  0.00000000e+00,  1.33488016e+00,\n",
       "         6.54038448e-01, -1.71633644e+00,  0.00000000e+00,\n",
       "         1.28782866e+00, -1.33488016e+00, -6.54038448e-01,\n",
       "         1.71633644e+00,  0.00000000e+00,  1.28782866e+00],\n",
       "       [-4.40199641e-03, -9.08299843e-02, -2.13877954e-01,\n",
       "        -3.74152675e+00,  0.00000000e+00,  3.46944695e-18,\n",
       "        -4.67500709e+00,  0.00000000e+00,  1.38777878e-17,\n",
       "        -1.06286310e-01,  0.00000000e+00,  1.20185168e-17,\n",
       "         3.89518196e-02,  0.00000000e+00, -1.82183547e+00,\n",
       "        -1.21560633e+00, -2.91351608e-01,  0.00000000e+00,\n",
       "        -1.53905578e+00, -1.82183547e+00, -1.21560633e+00,\n",
       "        -2.91351608e-01,  0.00000000e+00,  1.53905578e+00],\n",
       "       [ 0.00000000e+00,  0.00000000e+00,  0.00000000e+00,\n",
       "         0.00000000e+00, -3.69932957e+00,  0.00000000e+00,\n",
       "         0.00000000e+00, -4.54764635e+00,  0.00000000e+00,\n",
       "         0.00000000e+00, -8.77460824e-02,  0.00000000e+00,\n",
       "         0.00000000e+00,  0.00000000e+00,  0.00000000e+00,\n",
       "         0.00000000e+00,  0.00000000e+00, -1.45887752e+00,\n",
       "         0.00000000e+00,  0.00000000e+00,  0.00000000e+00,\n",
       "         0.00000000e+00, -1.45887752e+00,  0.00000000e+00],\n",
       "       [ 0.00000000e+00,  0.00000000e+00,  0.00000000e+00,\n",
       "         6.93889390e-18,  0.00000000e+00, -3.76845913e+00,\n",
       "         1.38777878e-17,  0.00000000e+00, -4.75629516e+00,\n",
       "         0.00000000e+00,  0.00000000e+00, -1.65649722e-01,\n",
       "         0.00000000e+00,  0.00000000e+00,  2.28571729e+00,\n",
       "         1.39214741e+00, -1.48144616e+00,  0.00000000e+00,\n",
       "         4.67417369e-01, -2.28571729e+00, -1.39214741e+00,\n",
       "         1.48144616e+00,  0.00000000e+00,  4.67417369e-01],\n",
       "       [-2.81441998e-04, -6.90722590e-03, -9.97378250e-03,\n",
       "        -1.18146163e-01,  0.00000000e+00,  0.00000000e+00,\n",
       "        -1.06286310e-01,  0.00000000e+00,  0.00000000e+00,\n",
       "        -4.21553882e+00,  0.00000000e+00, -7.51157299e-18,\n",
       "        -3.52812280e-02,  0.00000000e+00, -9.93435878e-02,\n",
       "        -3.07767318e-02, -7.65358002e-01,  0.00000000e+00,\n",
       "        -7.36702409e-01, -9.93435878e-02, -3.07767318e-02,\n",
       "        -7.65358002e-01,  0.00000000e+00,  7.36702409e-01],\n",
       "       [ 0.00000000e+00,  0.00000000e+00,  0.00000000e+00,\n",
       "         0.00000000e+00, -9.94412098e-02,  0.00000000e+00,\n",
       "         0.00000000e+00, -8.77460824e-02,  0.00000000e+00,\n",
       "         0.00000000e+00, -4.17965377e+00,  0.00000000e+00,\n",
       "         0.00000000e+00,  0.00000000e+00,  0.00000000e+00,\n",
       "         0.00000000e+00,  0.00000000e+00, -7.73203303e-01,\n",
       "         0.00000000e+00,  0.00000000e+00,  0.00000000e+00,\n",
       "         0.00000000e+00, -7.73203303e-01,  0.00000000e+00],\n",
       "       [ 1.87789325e-19,  1.20185168e-17,  1.20185168e-17,\n",
       "         1.20185168e-17,  0.00000000e+00, -1.51545932e-01,\n",
       "         1.20185168e-17,  0.00000000e+00, -1.65649722e-01,\n",
       "        -7.51157299e-18,  0.00000000e+00, -4.30163475e+00,\n",
       "        -7.80625564e-18,  0.00000000e+00,  9.97748234e-01,\n",
       "         1.73470277e-01, -3.78543248e-01,  0.00000000e+00,\n",
       "         9.69460991e-01, -9.97748234e-01, -1.73470277e-01,\n",
       "         3.78543248e-01,  0.00000000e+00,  9.69460991e-01],\n",
       "       [ 2.20760832e-03,  5.41797226e-02,  7.82335450e-02,\n",
       "         2.60523613e-02,  0.00000000e+00,  0.00000000e+00,\n",
       "         3.89518196e-02,  0.00000000e+00,  0.00000000e+00,\n",
       "        -3.52812280e-02,  0.00000000e+00, -7.80625564e-18,\n",
       "        -4.22829146e+00,  0.00000000e+00,  6.35327579e-01,\n",
       "         1.34847317e-01, -8.57522028e-01,  0.00000000e+00,\n",
       "         1.29006560e-01,  6.35327579e-01,  1.34847317e-01,\n",
       "        -8.57522028e-01,  0.00000000e+00, -1.29006560e-01],\n",
       "       [ 0.00000000e+00,  0.00000000e+00,  0.00000000e+00,\n",
       "         0.00000000e+00,  0.00000000e+00,  0.00000000e+00,\n",
       "         0.00000000e+00,  0.00000000e+00,  0.00000000e+00,\n",
       "         0.00000000e+00,  0.00000000e+00,  0.00000000e+00,\n",
       "         0.00000000e+00, -4.20542822e+00,  0.00000000e+00,\n",
       "         0.00000000e+00,  0.00000000e+00,  9.74136426e-01,\n",
       "         0.00000000e+00,  0.00000000e+00,  0.00000000e+00,\n",
       "         0.00000000e+00, -9.74136426e-01,  0.00000000e+00],\n",
       "       [-1.03024333e+00, -1.51898530e+00, -2.66226962e+00,\n",
       "        -1.06568141e+00,  0.00000000e+00,  1.33488016e+00,\n",
       "        -1.82183547e+00,  0.00000000e+00,  2.28571729e+00,\n",
       "        -9.93435878e-02,  0.00000000e+00,  9.97748234e-01,\n",
       "         6.35327579e-01,  0.00000000e+00, -4.54800949e+00,\n",
       "        -3.23033888e+00,  7.05792138e-01,  0.00000000e+00,\n",
       "        -9.61989778e-01, -4.89280610e-01, -1.36694497e+00,\n",
       "         9.55430217e-02,  0.00000000e+00,  6.68895781e-01],\n",
       "       [-1.84837357e+00, -2.14678487e+00, -3.77408779e+00,\n",
       "        -5.66517960e-01,  0.00000000e+00,  6.54038448e-01,\n",
       "        -1.21560633e+00,  0.00000000e+00,  1.39214741e+00,\n",
       "        -3.07767318e-02,  0.00000000e+00,  1.73470277e-01,\n",
       "         1.34847317e-01,  0.00000000e+00, -3.23033888e+00,\n",
       "        -3.95774010e+00,  6.31049044e-01,  0.00000000e+00,\n",
       "        -8.62670724e-01, -1.36694497e+00, -2.46266031e+00,\n",
       "         3.16354251e-01,  0.00000000e+00,  1.11906439e+00],\n",
       "       [ 1.19286409e+00,  1.39650863e+00,  1.75758354e+00,\n",
       "         4.38480460e-01,  0.00000000e+00, -1.71633644e+00,\n",
       "        -2.91351608e-01,  0.00000000e+00, -1.48144616e+00,\n",
       "        -7.65358002e-01,  0.00000000e+00, -3.78543248e-01,\n",
       "        -8.57522028e-01,  0.00000000e+00,  7.05792138e-01,\n",
       "         6.31049044e-01, -3.26614309e+00,  0.00000000e+00,\n",
       "         4.33378631e-01,  9.55430217e-02,  3.16354251e-01,\n",
       "        -1.87480440e-01,  0.00000000e+00, -1.31009119e-01],\n",
       "       [ 0.00000000e+00,  0.00000000e+00,  0.00000000e+00,\n",
       "         0.00000000e+00, -9.18105953e-01,  0.00000000e+00,\n",
       "         0.00000000e+00, -1.45887752e+00,  0.00000000e+00,\n",
       "         0.00000000e+00, -7.73203303e-01,  0.00000000e+00,\n",
       "         0.00000000e+00,  9.74136426e-01,  0.00000000e+00,\n",
       "         0.00000000e+00,  0.00000000e+00, -2.92755059e+00,\n",
       "         0.00000000e+00,  0.00000000e+00,  0.00000000e+00,\n",
       "         0.00000000e+00, -1.43345015e-01,  0.00000000e+00],\n",
       "       [-1.52768144e+00, -1.80601604e+00, -2.29137585e+00,\n",
       "        -1.75341360e+00,  0.00000000e+00,  1.28782866e+00,\n",
       "        -1.53905578e+00,  0.00000000e+00,  4.67417369e-01,\n",
       "        -7.36702409e-01,  0.00000000e+00,  9.69460991e-01,\n",
       "         1.29006560e-01,  0.00000000e+00, -9.61989778e-01,\n",
       "        -8.62670724e-01,  4.33378631e-01,  0.00000000e+00,\n",
       "        -3.51159008e+00, -6.68895781e-01, -1.11906439e+00,\n",
       "         1.31009119e-01,  0.00000000e+00,  1.04367871e+00],\n",
       "       [-1.03024333e+00, -1.51898530e+00, -2.66226962e+00,\n",
       "        -1.06568141e+00,  0.00000000e+00, -1.33488016e+00,\n",
       "        -1.82183547e+00,  0.00000000e+00, -2.28571729e+00,\n",
       "        -9.93435878e-02,  0.00000000e+00, -9.97748234e-01,\n",
       "         6.35327579e-01,  0.00000000e+00, -4.89280610e-01,\n",
       "        -1.36694497e+00,  9.55430217e-02,  0.00000000e+00,\n",
       "        -6.68895781e-01, -4.54800949e+00, -3.23033888e+00,\n",
       "         7.05792138e-01,  0.00000000e+00,  9.61989778e-01],\n",
       "       [-1.84837357e+00, -2.14678487e+00, -3.77408779e+00,\n",
       "        -5.66517960e-01,  0.00000000e+00, -6.54038448e-01,\n",
       "        -1.21560633e+00,  0.00000000e+00, -1.39214741e+00,\n",
       "        -3.07767318e-02,  0.00000000e+00, -1.73470277e-01,\n",
       "         1.34847317e-01,  0.00000000e+00, -1.36694497e+00,\n",
       "        -2.46266031e+00,  3.16354251e-01,  0.00000000e+00,\n",
       "        -1.11906439e+00, -3.23033888e+00, -3.95774010e+00,\n",
       "         6.31049044e-01,  0.00000000e+00,  8.62670724e-01],\n",
       "       [ 1.19286409e+00,  1.39650863e+00,  1.75758354e+00,\n",
       "         4.38480460e-01,  0.00000000e+00,  1.71633644e+00,\n",
       "        -2.91351608e-01,  0.00000000e+00,  1.48144616e+00,\n",
       "        -7.65358002e-01,  0.00000000e+00,  3.78543248e-01,\n",
       "        -8.57522028e-01,  0.00000000e+00,  9.55430217e-02,\n",
       "         3.16354251e-01, -1.87480440e-01,  0.00000000e+00,\n",
       "         1.31009119e-01,  7.05792138e-01,  6.31049044e-01,\n",
       "        -3.26614309e+00,  0.00000000e+00, -4.33378631e-01],\n",
       "       [ 0.00000000e+00,  0.00000000e+00,  0.00000000e+00,\n",
       "         0.00000000e+00, -9.18105953e-01,  0.00000000e+00,\n",
       "         0.00000000e+00, -1.45887752e+00,  0.00000000e+00,\n",
       "         0.00000000e+00, -7.73203303e-01,  0.00000000e+00,\n",
       "         0.00000000e+00, -9.74136426e-01,  0.00000000e+00,\n",
       "         0.00000000e+00,  0.00000000e+00, -1.43345015e-01,\n",
       "         0.00000000e+00,  0.00000000e+00,  0.00000000e+00,\n",
       "         0.00000000e+00, -2.92755059e+00,  0.00000000e+00],\n",
       "       [ 1.52768144e+00,  1.80601604e+00,  2.29137585e+00,\n",
       "         1.75341360e+00,  0.00000000e+00,  1.28782866e+00,\n",
       "         1.53905578e+00,  0.00000000e+00,  4.67417369e-01,\n",
       "         7.36702409e-01,  0.00000000e+00,  9.69460991e-01,\n",
       "        -1.29006560e-01,  0.00000000e+00,  6.68895781e-01,\n",
       "         1.11906439e+00, -1.31009119e-01,  0.00000000e+00,\n",
       "         1.04367871e+00,  9.61989778e-01,  8.62670724e-01,\n",
       "        -4.33378631e-01,  0.00000000e+00, -3.51159008e+00]])"
      ]
     },
     "execution_count": 14,
     "metadata": {},
     "output_type": "execute_result"
    }
   ],
   "source": [
    "H"
   ]
  },
  {
   "cell_type": "markdown",
   "metadata": {},
   "source": [
    "Recall that if we had used the hydrogen atom wavefunctions as our basis set, the AO wavefunctions would all be orthonormal.  Since we used a real basis set of Gaussian wavefuctions, this may not be the case.  We need to check our the overlap integral array and see if we have an orthonormal basis."
   ]
  },
  {
   "cell_type": "markdown",
   "metadata": {},
   "source": [
    "Question:  If our basis was orthonormal, what would the overlap integral array look like?"
   ]
  },
  {
   "cell_type": "markdown",
   "metadata": {},
   "source": [
    "#### Student Answer Box\n",
    "\n",
    "Ok ok, so orthonormal means orthogonal and unit vectors. So a bunch of 1's in the matrix where they're all orthogonal. (identity matrix)\n",
    "\n",
    "\n"
   ]
  },
  {
   "cell_type": "markdown",
   "metadata": {},
   "source": [
    "Construct an array of the same size as the overlap array (`S`) that has 1's along the diagonal and 0's everywhere else.  Use the numpy documentation to identify a function to do this.  Then compare that array to the `S` array to determine if the AO basis is orthonormal."
   ]
  },
  {
   "cell_type": "code",
   "execution_count": 17,
   "metadata": {},
   "outputs": [
    {
     "name": "stdout",
     "output_type": "stream",
     "text": [
      "The AO basis is orthonormal? False\n"
     ]
    }
   ],
   "source": [
    "# so an identity matrix..?\n",
    "size_S = S.shape[0]\n",
    "comparison_array = np.eye(size_S)\n",
    "\n",
    "\n",
    "# hmm need more here, obviously by looking at H its very different from identity\n",
    "orthonormal_check = False\n",
    "\n",
    "print(f'The AO basis is orthonormal? {orthonormal_check}')"
   ]
  },
  {
   "cell_type": "markdown",
   "metadata": {},
   "source": [
    "Since our AO basis set was not orthonormal, we must construct an orthogonalization matrix, `A` such that ${\\bf A}^{\\dagger}{\\bf SA} = {\\bf 1}$, and cast it to a numpy array."
   ]
  },
  {
   "cell_type": "code",
   "execution_count": 18,
   "metadata": {},
   "outputs": [],
   "source": [
    "# ==> Construct AO orthogonalization matrix A <==\n",
    "A = mints.ao_overlap()\n",
    "A.power(-0.5, 1.e-16)\n",
    "A = np.asarray(A)"
   ]
  },
  {
   "cell_type": "markdown",
   "metadata": {},
   "source": [
    "Use the orthogonalization matrix `A` to transform the overlap matrix, `S`. Check the transformed overlap matrix to make sure it represents an orthonormal basis."
   ]
  },
  {
   "cell_type": "code",
   "execution_count": 19,
   "metadata": {},
   "outputs": [
    {
     "name": "stdout",
     "output_type": "stream",
     "text": [
      "Transformation success!\n"
     ]
    }
   ],
   "source": [
    "# This is the code we would expect the student to write\n",
    "# so do the dot prods\n",
    "S_p = A.dot(S).dot(A)\n",
    "\n",
    "# peeked here at the instructor nb, allclose grrr\n",
    "transformation_check = np.allclose(S_p, comparison_array)\n",
    "# Returns True if two arrays are element-wise equal within a tolerance.\n",
    "\n",
    "if transformation_check is True:\n",
    "    print('Transformation success!')\n",
    "else:\n",
    "    print(\"Whoops...something went wrong. Check that you've correctly built the transformation matrix.\")"
   ]
  },
  {
   "cell_type": "markdown",
   "metadata": {},
   "source": [
    "Now we would have to recompute the ERI and all the core Hamiltonian matrices in the new orthogonal basis **OR** we can just calculate orbital coefficient matrix in the transformed basis by diagonalizing the transformed Fock matrix, and then just go backwards and get the cofficients in the original AO basis.\n",
    "\n",
    "We see here the central premise of SCF:  To get the Fock matrix, we need the coefficient matrix, but to compute the coefficient matrix we need the Fock matrix.  So we start with a guess for the Fock matrix, which is the core Hamiltonian matrix that we already calculated.\n",
    "\n",
    "In the cell below, use the core Hamiltonian matrix as your initial guess for the Fock matrix. Transform it with the same A matrix you used above.  Look up the `linalg.eigh` function in the numpy documentation, and use it to diagonalize the transformed Fock matrix."
   ]
  },
  {
   "cell_type": "code",
   "execution_count": 22,
   "metadata": {},
   "outputs": [],
   "source": [
    "# This is the code we would expect the student to write\n",
    "\n",
    "# Transformed Fock matrix\n",
    "# core hamiltonian is H, orthogonalization matrix is A\n",
    "F_p = A.dot(H).dot(A)\n",
    "\n",
    "# Diagonalize F_p for eigenvalues & eigenvectors with NumPy\n",
    "e, C_p = np.linalg.eigh(F_p)\n",
    "# Return the eigenvalues and eigenvectors of a \n",
    "# complex Hermitian (conjugate symmetric) or a real symmetric matrix."
   ]
  },
  {
   "cell_type": "code",
   "execution_count": 25,
   "metadata": {},
   "outputs": [
    {
     "data": {
      "text/plain": [
       "array([-32.91317315,  -8.74494834,  -8.50582561,  -8.40311052,\n",
       "        -8.39382404,  -4.73371868,  -4.64557803,  -4.34439439,\n",
       "        -4.2669162 ,  -4.22658219,  -4.17922912,  -4.05767035,\n",
       "        -3.84153828,  -3.83152535,  -3.03112028,  -3.0246779 ,\n",
       "        -2.5124168 ,  -2.49262155,  -2.48348811,  -2.3508696 ,\n",
       "        -2.29853262,  -2.27646853,  -1.51058272,  -1.42134636])"
      ]
     },
     "execution_count": 25,
     "metadata": {},
     "output_type": "execute_result"
    }
   ],
   "source": [
    "e"
   ]
  },
  {
   "cell_type": "markdown",
   "metadata": {},
   "source": [
    "Now that we have the coefficents in the transformed basis, we need to go back and get the coefficients in the original AO basis."
   ]
  },
  {
   "cell_type": "code",
   "execution_count": 27,
   "metadata": {},
   "outputs": [],
   "source": [
    "# peeked here, unclear that C = A dot C_p\n",
    "# Transform C_p back into AO basis\n",
    "C = A.dot(C_p)"
   ]
  },
  {
   "cell_type": "markdown",
   "metadata": {},
   "source": [
    "Next, we are going to construct the density matrix from the occupied orbitals.  To get a matrix of just the occupied orbitals, use the coefficient matrix in the original AO basis, and take a slice to include all rows and just the columns that represent the occupied orbitals."
   ]
  },
  {
   "cell_type": "code",
   "execution_count": 40,
   "metadata": {},
   "outputs": [
    {
     "data": {
      "text/plain": [
       "(24,)"
      ]
     },
     "execution_count": 40,
     "metadata": {},
     "output_type": "execute_result"
    }
   ],
   "source": [
    "C[0].shape # 24 calcs"
   ]
  },
  {
   "cell_type": "code",
   "execution_count": 30,
   "metadata": {},
   "outputs": [],
   "source": [
    "# only want the 5 occupied orbs\n",
    "\n",
    "# Grab occupied orbitals\n",
    "C_occ = C[:, :ndocc]"
   ]
  },
  {
   "cell_type": "code",
   "execution_count": 42,
   "metadata": {
    "scrolled": true
   },
   "outputs": [
    {
     "data": {
      "text/plain": [
       "(5,)"
      ]
     },
     "execution_count": 42,
     "metadata": {},
     "output_type": "execute_result"
    }
   ],
   "source": [
    "C_occ[0].shape"
   ]
  },
  {
   "cell_type": "markdown",
   "metadata": {},
   "source": [
    "To build the density matrix, we will use the numpy function `einsum`, one of the crown jewels of the numpy library.  In short, `einsum` lets you perform various combinations of multiplying, summing, and transposing matrices very efficiently.  A good tutorial about `einsum` can be found at http://ajcr.net/Basic-guide-to-einsum/.  To specify the operations you want to do, you use the **Ein**stein **Sum**mation convention."
   ]
  },
  {
   "cell_type": "code",
   "execution_count": 43,
   "metadata": {},
   "outputs": [],
   "source": [
    "# Build density matrix from occupied orbitals\n",
    "D = np.einsum('pi,qi->pq', C_occ, C_occ)"
   ]
  },
  {
   "cell_type": "markdown",
   "metadata": {},
   "source": [
    "Now we will use the density matrix to build the Fock matrix.  The code block below sets up the skelton of the Hartree-Fock procedure.  The basic steps are:\n",
    "1. Calculate the Fock Matrix from the density matrix and the nuclear repulsion energy (which we only need to calculate once at the beginning because we are invoking the the Born-Oppenheimer approximation thus making the nucleus stationary.  \n",
    "2. Calculate the energy from the Fock matrix.\n",
    "3. Check and see if the energy has converged by comparing the current energy to the previous energy and seeing if it is within the convergence threshold.  (You will write this section.)\n",
    "4. If the energy has not converged, transform the Fock matrix, and diagonalize the transformed Fock matrix to get the energy and MO coefficients.  Then transform back to the original AO basis, pull the occupied orbitals, and reconstruct the density matrix.  (You will write this section.)\n",
    "\n",
    "Follow the prompts below to complete your HF code."
   ]
  },
  {
   "cell_type": "code",
   "execution_count": 45,
   "metadata": {
    "scrolled": true
   },
   "outputs": [
    {
     "name": "stdout",
     "output_type": "stream",
     "text": [
      "==> Starting SCF Iterations <==\n",
      "\n",
      "SCF Iteration 1: Energy = -68.98003273 dE = -68.98003273\n",
      "SCF Iteration 2: Energy = -69.64725444 dE = -69.64725444\n",
      "SCF Iteration 3: Energy = -72.84030311 dE = -72.84030311\n",
      "SCF Iteration 4: Energy = -72.89488392 dE = -72.89488392\n",
      "SCF Iteration 5: Energy = -74.12078067 dE = -74.12078067\n",
      "SCF Iteration 6: Energy = -74.86718198 dE = -74.86718198\n",
      "SCF Iteration 7: Energy = -75.41490880 dE = -75.41490880\n",
      "SCF Iteration 8: Energy = -75.70767222 dE = -75.70767222\n",
      "SCF Iteration 9: Energy = -75.86052422 dE = -75.86052422\n",
      "SCF Iteration 10: Energy = -75.93143853 dE = -75.93143853\n",
      "SCF Iteration 11: Energy = -75.96402440 dE = -75.96402440\n",
      "SCF Iteration 12: Energy = -75.97842921 dE = -75.97842921\n",
      "SCF Iteration 13: Energy = -75.98481700 dE = -75.98481700\n",
      "SCF Iteration 14: Energy = -75.98761284 dE = -75.98761284\n",
      "SCF Iteration 15: Energy = -75.98884089 dE = -75.98884089\n",
      "SCF Iteration 16: Energy = -75.98937775 dE = -75.98937775\n",
      "SCF Iteration 17: Energy = -75.98961294 dE = -75.98961294\n",
      "SCF Iteration 18: Energy = -75.98971577 dE = -75.98971577\n",
      "SCF Iteration 19: Energy = -75.98976079 dE = -75.98976079\n",
      "SCF Iteration 20: Energy = -75.98978047 dE = -75.98978047\n",
      "SCF Iteration 21: Energy = -75.98978909 dE = -75.98978909\n",
      "SCF Iteration 22: Energy = -75.98979286 dE = -75.98979286\n",
      "SCF Iteration 23: Energy = -75.98979450 dE = -75.98979450\n",
      "SCF Iteration 24: Energy = -75.98979523 dE = -75.98979523\n",
      "SCF Iteration 25: Energy = -75.98979554 dE = -75.98979554\n",
      "SCF Iteration 26: Energy = -75.98979568 dE = -75.98979568\n",
      "SCF Iteration 27: Energy = -75.98979574 dE = -75.98979574\n",
      "SCF Iteration 28: Energy = -75.98979577 dE = -75.98979577\n",
      "SCF Iteration 29: Energy = -75.98979578 dE = -75.98979578\n",
      "SCF Iteration 30: Energy = -75.98979578 dE = -75.98979578\n",
      "SCF Iteration 31: Energy = -75.98979579 dE = -75.98979579\n",
      "SCF Iteration 32: Energy = -75.98979579 dE = -75.98979579\n",
      "SCF Iteration 33: Energy = -75.98979579 dE = -75.98979579\n",
      "SCF Iteration 34: Energy = -75.98979579 dE = -75.98979579\n",
      "SCF Iteration 35: Energy = -75.98979579 dE = -75.98979579\n",
      "SCF Iteration 36: Energy = -75.98979579 dE = -75.98979579\n",
      "SCF Iteration 37: Energy = -75.98979579 dE = -75.98979579\n",
      "SCF Iteration 38: Energy = -75.98979579 dE = -75.98979579\n",
      "SCF Iteration 39: Energy = -75.98979579 dE = -75.98979579\n",
      "SCF Iteration 40: Energy = -75.98979579 dE = -75.98979579\n"
     ]
    },
    {
     "ename": "Exception",
     "evalue": "Maximum number of SCF iterations exceeded.",
     "output_type": "error",
     "traceback": [
      "\u001b[0;31m---------------------------------------------------------------------------\u001b[0m",
      "\u001b[0;31mException\u001b[0m                                 Traceback (most recent call last)",
      "\u001b[0;32m<ipython-input-45-7e0097a79173>\u001b[0m in \u001b[0;36m<module>\u001b[0;34m\u001b[0m\n\u001b[1;32m     41\u001b[0m     \u001b[0;32mif\u001b[0m \u001b[0;34m(\u001b[0m\u001b[0mscf_iter\u001b[0m \u001b[0;34m==\u001b[0m \u001b[0mMAXITER\u001b[0m\u001b[0;34m)\u001b[0m\u001b[0;34m:\u001b[0m\u001b[0;34m\u001b[0m\u001b[0;34m\u001b[0m\u001b[0m\n\u001b[1;32m     42\u001b[0m         \u001b[0mpsi4\u001b[0m\u001b[0;34m.\u001b[0m\u001b[0mcore\u001b[0m\u001b[0;34m.\u001b[0m\u001b[0mclean\u001b[0m\u001b[0;34m(\u001b[0m\u001b[0;34m)\u001b[0m\u001b[0;34m\u001b[0m\u001b[0;34m\u001b[0m\u001b[0m\n\u001b[0;32m---> 43\u001b[0;31m         \u001b[0;32mraise\u001b[0m \u001b[0mException\u001b[0m\u001b[0;34m(\u001b[0m\u001b[0;34m\"Maximum number of SCF iterations exceeded.\"\u001b[0m\u001b[0;34m)\u001b[0m\u001b[0;34m\u001b[0m\u001b[0;34m\u001b[0m\u001b[0m\n\u001b[0m\u001b[1;32m     44\u001b[0m \u001b[0;34m\u001b[0m\u001b[0m\n\u001b[1;32m     45\u001b[0m \u001b[0;31m# Post iterations\u001b[0m\u001b[0;34m\u001b[0m\u001b[0;34m\u001b[0m\u001b[0;34m\u001b[0m\u001b[0m\n",
      "\u001b[0;31mException\u001b[0m: Maximum number of SCF iterations exceeded."
     ]
    }
   ],
   "source": [
    "# ==> Nuclear Repulsion Energy <==\n",
    "E_nuc = mol.nuclear_repulsion_energy()\n",
    "\n",
    "# ==> SCF Iterations <==\n",
    "# Pre-iteration energy declarations\n",
    "SCF_E = 0.0\n",
    "E_old = 0.0\n",
    "\n",
    "print('==> Starting SCF Iterations <==\\n')\n",
    "\n",
    "# Begin Iterations\n",
    "for scf_iter in range(1, MAXITER + 1):\n",
    "    # Build Fock matrix\n",
    "    J = np.einsum('pqrs,rs->pq', I, D)\n",
    "    K = np.einsum('prqs,rs->pq', I, D)\n",
    "    F = H + 2*J - K\n",
    "    \n",
    "    # Compute RHF energy; this use of einsum is matrix multiplication\n",
    "    SCF_E = np.einsum('pq,pq->', (H + F), D) + E_nuc\n",
    "    print(F'SCF Iteration {scf_iter}: Energy = {SCF_E:.8f} dE = {SCF_E - E_old:.8f}')\n",
    "    \n",
    "    # Check to see if the energy is converged.  If it is break out of the loop.\n",
    "    # If it is not, set the current energy E_old\n",
    "    \n",
    "    ## This is the code we would expect the student to write\n",
    "    \n",
    "    # Compute new orbital guess.  Remember the steps:\n",
    "    # 1. Transform the Fock matrix\n",
    "    F_p = A.dot(F).dot(A)\n",
    "    # 2. Diagonalize the Fock matrix.\n",
    "    e, C_p = np.linalg.eigh(F_p)\n",
    "    # 3. Tranform the coefficient matrix back to original AO basis set\n",
    "    C = A.dot(C_p)\n",
    "    # 4. Take a slice of the coefficient matrix of just the occupied orbitals.\n",
    "    C_occ = C[:, :ndocc]\n",
    "    # 5. Use the occupied orbitals to construct the density\n",
    "    D = np.einsum('pi,qi->pq', C_occ, C_occ)\n",
    "    ## This is the code we would expect the student to write\n",
    "    \n",
    "    # MAXITER exceeded?\n",
    "    if (scf_iter == MAXITER):\n",
    "        psi4.core.clean()\n",
    "        raise Exception(\"Maximum number of SCF iterations exceeded.\")\n",
    "\n",
    "# Post iterations\n",
    "print('\\nSCF converged.')\n",
    "print(F'Final RHF Energy: {SCF_E:.6f} [Eh]')"
   ]
  },
  {
   "cell_type": "markdown",
   "metadata": {},
   "source": [
    "Compare your results to Psi4 by computing the energy using `psi4.energy()` in the cell below.  "
   ]
  },
  {
   "cell_type": "code",
   "execution_count": 47,
   "metadata": {
    "scrolled": true
   },
   "outputs": [
    {
     "name": "stdout",
     "output_type": "stream",
     "text": [
      "    My SCF Procedure..................................................PASSED\n"
     ]
    }
   ],
   "source": [
    "# ==> Compare our SCF to Psi4 <==\n",
    "# Call psi4.energy() to compute the SCF energy\n",
    "SCF_E_psi = psi4.energy('HF', molecule=mol)\n",
    "\n",
    "# Compare our energy value to what Psi4 computes\n",
    "assert psi4.compare_values(SCF_E_psi, SCF_E, 6, 'My SCF Procedure')"
   ]
  },
  {
   "cell_type": "markdown",
   "metadata": {},
   "source": [
    "## Using Hartree-Fock to Justify Molecular Structure\n",
    "\n",
    "Why is CO$_2$ linear? Why is H$_2$O bent? Why is CH$_4$ tetrahedral? Why is FeF$_6$ octahedral? In general\n",
    "chemistry, we used valence shell electron pair repulsion (VSEPR) theory to justify molecular structures\n",
    "by invoking a _repulsion_ between both bonding and non-bonding pairs of electrons.  The reality of molecular\n",
    "structure is more complicated, however.\n",
    "\n",
    "In this section of the lab, we will use the same Hartree-Fock method that we implemented above to justify the\n",
    "bent structure of water by computing the electronic energy of H$_2$O at a variety of bond angles.  \n"
   ]
  },
  {
   "cell_type": "code",
   "execution_count": 55,
   "metadata": {},
   "outputs": [],
   "source": [
    "# ==> Scanning a Bond Angle: Flexible Water <==\n",
    "# Import a library to visualize energy profile\n",
    "import matplotlib.pyplot as plt\n",
    "%matplotlib inline\n",
    "\n",
    "# Define flexible water molecule using Z-matrix\n",
    "flexible_water = \"\"\"\n",
    "O\n",
    "H 1 0.96\n",
    "H 1 0.96 2 theta\n",
    "\"\"\"\n",
    "\n",
    "# Scan over bond angle range between 90 & 180, in 5 degree increments\n",
    "scan = {}\n",
    "for angle in range(90, 181, 5):\n",
    "    # Make molecule with particular bond angle\n",
    "    mol = psi4.geometry(flexible_water.replace('theta', str(angle)))\n",
    "    # Call psi4.energy(), specify molecule=mol\n",
    "    e = psi4.energy('HF', molecule=mol)\n",
    "    # Save energy in dictionary\n",
    "    scan[angle] = e"
   ]
  },
  {
   "cell_type": "code",
   "execution_count": 56,
   "metadata": {},
   "outputs": [
    {
     "data": {
      "text/plain": [
       "{90: -76.02075342467673,\n",
       " 95: -76.02425116083828,\n",
       " 100: -76.02617850030151,\n",
       " 105: -76.02663653742182,\n",
       " 110: -76.02574146770581,\n",
       " 115: -76.02362460621903,\n",
       " 120: -76.02043144800514,\n",
       " 125: -76.0163210559426,\n",
       " 130: -76.01146627892723,\n",
       " 135: -76.00605457281367,\n",
       " 140: -76.0002887611862,\n",
       " 145: -75.99438688069651,\n",
       " 150: -75.98858018703251,\n",
       " 155: -75.98310842394635,\n",
       " 160: -75.97821165912117,\n",
       " 165: -75.9741184881008,\n",
       " 170: -75.97103125295152,\n",
       " 175: -75.96910998427596,\n",
       " 180: -75.96845769690123}"
      ]
     },
     "execution_count": 56,
     "metadata": {},
     "output_type": "execute_result"
    }
   ],
   "source": [
    "scan"
   ]
  },
  {
   "cell_type": "code",
   "execution_count": 65,
   "metadata": {},
   "outputs": [
    {
     "data": {
      "image/png": "[encoded data removed]",
      "text/plain": [
       "<Figure size 432x288 with 1 Axes>"
      ]
     },
     "metadata": {
      "needs_background": "light"
     },
     "output_type": "display_data"
    }
   ],
   "source": [
    "# Visualize energy profile\n",
    "plt.plot([*scan.keys()], [*scan.values()], 'ro-') # diff versions of python here can confuse students\n",
    "# scan.keys() returns a dict_keys object not a list, need to unzip it (what the * does)\n",
    "\n",
    "plt.xlabel('H-O-H Bond Angle ($^{\\circ}$)')\n",
    "plt.ylabel('Molecular Energy ($E_h$)')\n",
    "plt.show()"
   ]
  },
  {
   "cell_type": "code",
   "execution_count": 67,
   "metadata": {},
   "outputs": [
    {
     "name": "stdout",
     "output_type": "stream",
     "text": [
      "dict_keys([1, 2]) <class 'dict_keys'>\n",
      "[1, 2] <class 'list'>\n"
     ]
    }
   ],
   "source": [
    "# example\n",
    "\n",
    "d = {1: 'foo', 2: 'bar'}\n",
    "\n",
    "print(d.keys(), type(d.keys()))\n",
    "print([*d.keys()], type([*d.keys()]))"
   ]
  },
  {
   "cell_type": "markdown",
   "metadata": {},
   "source": [
    "Using the energy profile we generated above, justify the experimentally measured water bond angle of 104.5$^{\\circ}$ in the cell below."
   ]
  },
  {
   "cell_type": "markdown",
   "metadata": {},
   "source": [
    "#### Student Answer Box\n",
    "\n",
    "Ummm idk"
   ]
  }
 ],
 "metadata": {
  "kernelspec": {
   "display_name": "Python 3",
   "language": "python",
   "name": "python3"
  },
  "language_info": {
   "codemirror_mode": {
    "name": "ipython",
    "version": 3
   },
   "file_extension": ".py",
   "mimetype": "text/x-python",
   "name": "python",
   "nbconvert_exporter": "python",
   "pygments_lexer": "ipython3",
   "version": "3.6.9"
  },
  "latex_envs": {
   "LaTeX_envs_menu_present": true,
   "autoclose": false,
   "autocomplete": true,
   "bibliofile": "biblio.bib",
   "cite_by": "apalike",
   "current_citInitial": 1,
   "eqLabelWithNumbers": true,
   "eqNumInitial": 1,
   "hotkeys": {
    "equation": "Ctrl-E",
    "itemize": "Ctrl-I"
   },
   "labels_anchors": false,
   "latex_user_defs": false,
   "report_style_numbering": true,
   "user_envs_cfg": true
  }
 },
 "nbformat": 4,
 "nbformat_minor": 2
}
