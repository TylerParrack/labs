{
 "cells": [
  {
   "cell_type": "code",
   "execution_count": null,
   "metadata": {},
   "outputs": [],
   "source": [
    "# Built-ins\n",
    "import os\n",
    "import sys\n",
    "import time\n",
    "import shutil\n",
    "\n",
    "# Libs\n",
    "import numpy as np\n",
    "import psi4\n",
    "import moly\n",
    "\n",
    "__author__ = 'William Doyle'\n",
    "__copyright__ = 'Winter 2020 Example Blob Slider'\n",
    "__credits__ = ['Tricia Shepherd']\n",
    "__license__ = ''\n",
    "__version__ = '1.0.0'\n",
    "__status__ = 'in_dev'\n",
    "__maintainer__ = ['William Doyle', 'Tricia Shepherd']\n",
    "__email__ = ['wdoyle@fandm.edu',\n",
    "             'doyle.william98@gmail.com']"
   ]
  },
  {
   "cell_type": "code",
   "execution_count": null,
   "metadata": {},
   "outputs": [],
   "source": [
    "def write_cubes(dir_name, wfn, force_rewrite=True):\n",
    "    \"\"\"\n",
    "    Writes all cube files to a directory dir_name from\n",
    "    a wavefunction wfn created in psi4\n",
    "    \"\"\"\n",
    "    \n",
    "    def make_and_write(dir_name, wfn):\n",
    "        # alternatively set global path with CUBEPROP_FILEPATH\n",
    "        os.mkdir(dir_name)\n",
    "        os.chdir(dir_name)\n",
    "        psi4.cubeprop(wfn)\n",
    "        os.chdir('..')\n",
    "    \n",
    "    if not os.path.exists(dir_name):\n",
    "        make_and_write(dir_name, wfn)\n",
    "    \n",
    "    if force_rewrite:\n",
    "        shutil.rmtree(os.getcwd() + f'/{dir_name}')\n",
    "        make_and_write(dir_name, wfn)\n",
    "    else:\n",
    "        raise RuntimeError('Directory exists, to rewrite specify force_rewrite=True')\n",
    "\n",
    "def visualize(dir_name, file_name,iso=[0.01, 0.02, 0.03]):\n",
    "    fig = moly.Figure()\n",
    "    fig.add_cube(dir_name + f'/{file_name}', iso=[0.01, 0.02, 0.03], plot_geometry=True)\n",
    "    fig.show()"
   ]
  },
  {
   "cell_type": "code",
   "execution_count": null,
   "metadata": {},
   "outputs": [],
   "source": [
    "H2 = psi4.geometry(\"\"\"\n",
    "H\n",
    "H 1 1.0\n",
    "\"\"\")\n",
    "\n",
    "psi4.energy('scf/STO-3G',molecule=H2)"
   ]
  },
  {
   "cell_type": "code",
   "execution_count": null,
   "metadata": {},
   "outputs": [],
   "source": [
    "psi4.optimize('scf/STO-3G', molecule=H2)"
   ]
  },
  {
   "cell_type": "code",
   "execution_count": null,
   "metadata": {},
   "outputs": [],
   "source": [
    "basis_set = 'STO-3G'\n",
    "\n",
    "dir_name = 'H2'\n",
    "psi4.set_options({\"cubeprop_tasks\" : ['density', 'orbitals'],\n",
    "                  \"cubeprop_isocontour_threshold\" : .95,\n",
    "                  'reference': 'uhf','basis': basis_set})\n",
    "\n",
    "energy, wfn  = psi4.energy('hf', molecule=H2, return_wfn=True)\n",
    "\n",
    "write_cubes(dir_name=dir_name, wfn=wfn)"
   ]
  },
  {
   "cell_type": "code",
   "execution_count": null,
   "metadata": {},
   "outputs": [],
   "source": [
    "visualize(dir_name=dir_name, file_name='Psi_a_2_1-B1u.cube',iso=[0.01, 0.02, 0.03])"
   ]
  }
 ],
 "metadata": {
  "kernelspec": {
   "display_name": "Python 3",
   "language": "python",
   "name": "python3"
  },
  "language_info": {
   "codemirror_mode": {
    "name": "ipython",
    "version": 3
   },
   "file_extension": ".py",
   "mimetype": "text/x-python",
   "name": "python",
   "nbconvert_exporter": "python",
   "pygments_lexer": "ipython3",
   "version": "3.6.10"
  }
 },
 "nbformat": 4,
 "nbformat_minor": 2
}
