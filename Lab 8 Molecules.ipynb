{
 "cells": [
  {
   "cell_type": "code",
   "execution_count": 1,
   "metadata": {},
   "outputs": [],
   "source": [
    "# Built-ins\n",
    "import os\n",
    "import sys\n",
    "import time\n",
    "import shutil\n",
    "\n",
    "# Libs\n",
    "import numpy as np\n",
    "import psi4\n",
    "import moly\n",
    "\n",
    "__author__ = 'William Doyle'\n",
    "__copyright__ = 'Winter 2020 Example Blob Slider'\n",
    "__credits__ = ['Tricia Shepherd']\n",
    "__license__ = ''\n",
    "__version__ = '1.0.0'\n",
    "__status__ = 'in_dev'\n",
    "__maintainer__ = ['William Doyle', 'Tricia Shepherd']\n",
    "__email__ = ['wdoyle@fandm.edu',\n",
    "             'doyle.william98@gmail.com']"
   ]
  },
  {
   "cell_type": "code",
   "execution_count": 16,
   "metadata": {},
   "outputs": [],
   "source": [
    "def write_cubes(dir_name, wfn, force_rewrite=True):\n",
    "    \"\"\"\n",
    "    Writes all cube files to a directory dir_name from\n",
    "    a wavefunction wfn created in psi4\n",
    "    \"\"\"\n",
    "    \n",
    "    def make_and_write(dir_name, wfn):\n",
    "        # alternatively set global path with CUBEPROP_FILEPATH\n",
    "        os.mkdir(dir_name)\n",
    "        os.chdir(dir_name)\n",
    "        psi4.cubeprop(wfn)\n",
    "        os.chdir('..')\n",
    "    \n",
    "    if not os.path.exists(dir_name):\n",
    "        make_and_write(dir_name, wfn)\n",
    "    \n",
    "    if force_rewrite:\n",
    "        shutil.rmtree(os.getcwd() + f'/{dir_name}')\n",
    "        make_and_write(dir_name, wfn)\n",
    "    else:\n",
    "        raise RuntimeError('Directory exists, to rewrite specify force_rewrite=True')\n",
    "\n",
    "def visualize(dir_name, file_name):\n",
    "    fig = moly.Figure()\n",
    "    fig.add_cube(dir_name + f'/{file_name}', iso=[0.03, 0.1, 0.05])\n",
    "    fig.show()"
   ]
  },
  {
   "cell_type": "code",
   "execution_count": 17,
   "metadata": {},
   "outputs": [
    {
     "data": {
      "text/plain": [
       "-1.066135566236998"
      ]
     },
     "execution_count": 17,
     "metadata": {},
     "output_type": "execute_result"
    }
   ],
   "source": [
    "H2 = psi4.geometry(\"\"\"\n",
    "0 1\n",
    "H\n",
    "H 1 1.0\n",
    "\"\"\")\n",
    "\n",
    "psi4.energy('scf/STO-3G',molecule=H2)"
   ]
  },
  {
   "cell_type": "code",
   "execution_count": 18,
   "metadata": {},
   "outputs": [
    {
     "name": "stdout",
     "output_type": "stream",
     "text": [
      "Optimizer: Optimization complete!\n"
     ]
    },
    {
     "data": {
      "text/plain": [
       "-1.1175301731228882"
      ]
     },
     "execution_count": 18,
     "metadata": {},
     "output_type": "execute_result"
    }
   ],
   "source": [
    "psi4.optimize('scf/STO-3G', molecule=H2)"
   ]
  },
  {
   "cell_type": "code",
   "execution_count": 19,
   "metadata": {},
   "outputs": [],
   "source": [
    "basis_set = 'STO-3G'\n",
    "\n",
    "dir_name = 'H2'\n",
    "psi4.set_options({\"cubeprop_tasks\" : ['density', 'orbitals'],\n",
    "                  \"cubeprop_isocontour_threshold\" : .95,\n",
    "                  'reference': 'uhf','basis': basis_set})\n",
    "\n",
    "energy, wfn  = psi4.energy('hf', molecule=H2, return_wfn=True)\n",
    "\n",
    "write_cubes(dir_name=dir_name, wfn=wfn)"
   ]
  },
  {
   "cell_type": "code",
   "execution_count": 22,
   "metadata": {},
   "outputs": [
    {
     "ename": "KeyError",
     "evalue": "'H2/Psi_a_2_1-B1u.cube'",
     "output_type": "error",
     "traceback": [
      "\u001b[0;31m---------------------------------------------------------------------------\u001b[0m",
      "\u001b[0;31mKeyError\u001b[0m                                  Traceback (most recent call last)",
      "\u001b[0;32m<ipython-input-22-fd041b5aac07>\u001b[0m in \u001b[0;36m<module>\u001b[0;34m()\u001b[0m\n\u001b[0;32m----> 1\u001b[0;31m \u001b[0mvisualize\u001b[0m\u001b[0;34m(\u001b[0m\u001b[0mdir_name\u001b[0m\u001b[0;34m=\u001b[0m\u001b[0mdir_name\u001b[0m\u001b[0;34m,\u001b[0m \u001b[0mfile_name\u001b[0m\u001b[0;34m=\u001b[0m\u001b[0;34m'Psi_a_2_1-B1u.cube'\u001b[0m\u001b[0;34m)\u001b[0m\u001b[0;34m\u001b[0m\u001b[0;34m\u001b[0m\u001b[0m\n\u001b[0m",
      "\u001b[0;32m<ipython-input-16-af720fce0d3a>\u001b[0m in \u001b[0;36mvisualize\u001b[0;34m(dir_name, file_name)\u001b[0m\n\u001b[1;32m     23\u001b[0m \u001b[0;32mdef\u001b[0m \u001b[0mvisualize\u001b[0m\u001b[0;34m(\u001b[0m\u001b[0mdir_name\u001b[0m\u001b[0;34m,\u001b[0m \u001b[0mfile_name\u001b[0m\u001b[0;34m)\u001b[0m\u001b[0;34m:\u001b[0m\u001b[0;34m\u001b[0m\u001b[0;34m\u001b[0m\u001b[0m\n\u001b[1;32m     24\u001b[0m     \u001b[0mfig\u001b[0m \u001b[0;34m=\u001b[0m \u001b[0mmoly\u001b[0m\u001b[0;34m.\u001b[0m\u001b[0mFigure\u001b[0m\u001b[0;34m(\u001b[0m\u001b[0;34m)\u001b[0m\u001b[0;34m\u001b[0m\u001b[0;34m\u001b[0m\u001b[0m\n\u001b[0;32m---> 25\u001b[0;31m     \u001b[0mfig\u001b[0m\u001b[0;34m.\u001b[0m\u001b[0madd_cube\u001b[0m\u001b[0;34m(\u001b[0m\u001b[0mdir_name\u001b[0m \u001b[0;34m+\u001b[0m \u001b[0;34mf'/{file_name}'\u001b[0m\u001b[0;34m,\u001b[0m \u001b[0miso\u001b[0m\u001b[0;34m=\u001b[0m\u001b[0;34m[\u001b[0m\u001b[0;36m0.03\u001b[0m\u001b[0;34m,\u001b[0m \u001b[0;36m0.1\u001b[0m\u001b[0;34m,\u001b[0m \u001b[0;36m0.05\u001b[0m\u001b[0;34m]\u001b[0m\u001b[0;34m)\u001b[0m\u001b[0;34m\u001b[0m\u001b[0;34m\u001b[0m\u001b[0m\n\u001b[0m\u001b[1;32m     26\u001b[0m     \u001b[0mfig\u001b[0m\u001b[0;34m.\u001b[0m\u001b[0mshow\u001b[0m\u001b[0;34m(\u001b[0m\u001b[0;34m)\u001b[0m\u001b[0;34m\u001b[0m\u001b[0;34m\u001b[0m\u001b[0m\n",
      "\u001b[0;32m/anaconda3/lib//python3.6/site-packages/moly/figure/figure.py\u001b[0m in \u001b[0;36madd_cube\u001b[0;34m(self, index, iso, color, opacity, style)\u001b[0m\n\u001b[1;32m    199\u001b[0m \u001b[0;34m\u001b[0m\u001b[0m\n\u001b[1;32m    200\u001b[0m     \u001b[0;32mdef\u001b[0m \u001b[0madd_cube\u001b[0m\u001b[0;34m(\u001b[0m\u001b[0mself\u001b[0m\u001b[0;34m,\u001b[0m \u001b[0mindex\u001b[0m\u001b[0;34m=\u001b[0m\u001b[0;36m0\u001b[0m\u001b[0;34m,\u001b[0m \u001b[0miso\u001b[0m\u001b[0;34m=\u001b[0m\u001b[0;36m0.01\u001b[0m\u001b[0;34m,\u001b[0m \u001b[0mcolor\u001b[0m\u001b[0;34m=\u001b[0m\u001b[0;34m\"Portland_r\"\u001b[0m\u001b[0;34m,\u001b[0m \u001b[0mopacity\u001b[0m\u001b[0;34m=\u001b[0m\u001b[0;36m0.2\u001b[0m\u001b[0;34m,\u001b[0m \u001b[0mstyle\u001b[0m\u001b[0;34m=\u001b[0m\u001b[0;34m\"ball_and_stick\"\u001b[0m\u001b[0;34m)\u001b[0m\u001b[0;34m:\u001b[0m\u001b[0;34m\u001b[0m\u001b[0;34m\u001b[0m\u001b[0m\n\u001b[0;32m--> 201\u001b[0;31m         \u001b[0mvolume\u001b[0m \u001b[0;34m=\u001b[0m \u001b[0mget_cube\u001b[0m\u001b[0;34m(\u001b[0m\u001b[0mself\u001b[0m\u001b[0;34m.\u001b[0m\u001b[0mmolecules\u001b[0m\u001b[0;34m[\u001b[0m\u001b[0mindex\u001b[0m\u001b[0;34m]\u001b[0m\u001b[0;34m,\u001b[0m \u001b[0miso\u001b[0m\u001b[0;34m,\u001b[0m \u001b[0mopacity\u001b[0m\u001b[0;34m,\u001b[0m \u001b[0mcolor\u001b[0m\u001b[0;34m)\u001b[0m\u001b[0;34m\u001b[0m\u001b[0;34m\u001b[0m\u001b[0m\n\u001b[0m\u001b[1;32m    202\u001b[0m         \u001b[0mself\u001b[0m\u001b[0;34m.\u001b[0m\u001b[0mfig\u001b[0m\u001b[0;34m.\u001b[0m\u001b[0madd_trace\u001b[0m\u001b[0;34m(\u001b[0m\u001b[0mvolume\u001b[0m\u001b[0;34m)\u001b[0m\u001b[0;34m\u001b[0m\u001b[0;34m\u001b[0m\u001b[0m\n\u001b[1;32m    203\u001b[0m \u001b[0;34m\u001b[0m\u001b[0m\n",
      "\u001b[0;31mKeyError\u001b[0m: 'H2/Psi_a_2_1-B1u.cube'"
     ]
    }
   ],
   "source": [
<<<<<<< HEAD
    "visualize(dir_name=dir_name, file_name='Psi_a_2_1-B1u.cube')\n"
=======
    "visualize(dir_name=dir_name, file_name='Psi_a_1_1-Ag.cube', iso_slider=(0.03, 0.1, .05))"
>>>>>>> 6684cab816f0d8121935adeccb5cfab3c2c974ed
   ]
  },
  {
   "cell_type": "code",
   "execution_count": null,
   "metadata": {},
   "outputs": [],
   "source": []
  }
 ],
 "metadata": {
  "kernelspec": {
   "display_name": "Python 3",
   "language": "python",
   "name": "python3"
  },
  "language_info": {
   "codemirror_mode": {
    "name": "ipython",
    "version": 3
   },
   "file_extension": ".py",
   "mimetype": "text/x-python",
   "name": "python",
   "nbconvert_exporter": "python",
   "pygments_lexer": "ipython3",
   "version": "3.6.10"
  }
 },
 "nbformat": 4,
 "nbformat_minor": 2
}
